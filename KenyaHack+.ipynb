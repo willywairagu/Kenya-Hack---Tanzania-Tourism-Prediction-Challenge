{
  "nbformat": 4,
  "nbformat_minor": 0,
  "metadata": {
    "colab": {
      "name": "K_Hack.ipynb",
      "provenance": [],
      "collapsed_sections": [],
      "toc_visible": true
    },
    "kernelspec": {
      "name": "python3",
      "display_name": "Python 3"
    }
  },
  "cells": [
    {
      "cell_type": "markdown",
      "metadata": {
        "id": "JNhK8QdrfrU-"
      },
      "source": [
        "# **Kenya Hack - Tanzania Tourism Prediction Challenge**\r\n",
        "The dataset describes 6476 rows of up-to-date information on tourist expenditure collected by the National Bureau of Statistics (NBS) in Tanzania.The dataset was collected to gain a better understanding of the status of the tourism sector and provide an instrument that will enable sector growth.\r\n",
        "\r\n",
        "The objective of this hackathon is to develop a machine learning model to predict what a tourist will spend when visiting Tanzania.The model can be used by different tour operators and the Tanzania Tourism Board to automatically help tourists across the world estimate their expenditure before visiting Tanzania\r\n",
        "\r\n",
        "Below is the third winning solution to the hackathon."
      ]
    },
    {
      "cell_type": "code",
      "metadata": {
        "id": "pSWrNYzP8jpo"
      },
      "source": [
        "# Importing the necessary libraries\r\n",
        "import pandas as pd\r\n",
        "import numpy as np\r\n",
        "import matplotlib.pyplot as plt\r\n",
        "import seaborn as sns"
      ],
      "execution_count": null,
      "outputs": []
    },
    {
      "cell_type": "code",
      "metadata": {
        "id": "c3f896pxT_pf",
        "colab": {
          "base_uri": "https://localhost:8080/"
        },
        "outputId": "2162e0af-59c1-4ab3-b14a-53d2ae8a9687"
      },
      "source": [
        "!pip install catboost"
      ],
      "execution_count": null,
      "outputs": [
        {
          "output_type": "stream",
          "text": [
            "Collecting catboost\n",
            "\u001b[?25l  Downloading https://files.pythonhosted.org/packages/7e/c1/c1c4707013f9e2f8a96899dd3a87f66c9167d6d776a6dc8fe7ec8678d446/catboost-0.24.3-cp36-none-manylinux1_x86_64.whl (66.3MB)\n",
            "\u001b[K     |████████████████████████████████| 66.3MB 56kB/s \n",
            "\u001b[?25hRequirement already satisfied: scipy in /usr/local/lib/python3.6/dist-packages (from catboost) (1.4.1)\n",
            "Requirement already satisfied: plotly in /usr/local/lib/python3.6/dist-packages (from catboost) (4.4.1)\n",
            "Requirement already satisfied: numpy>=1.16.0 in /usr/local/lib/python3.6/dist-packages (from catboost) (1.19.4)\n",
            "Requirement already satisfied: six in /usr/local/lib/python3.6/dist-packages (from catboost) (1.15.0)\n",
            "Requirement already satisfied: pandas>=0.24.0 in /usr/local/lib/python3.6/dist-packages (from catboost) (1.1.5)\n",
            "Requirement already satisfied: graphviz in /usr/local/lib/python3.6/dist-packages (from catboost) (0.10.1)\n",
            "Requirement already satisfied: matplotlib in /usr/local/lib/python3.6/dist-packages (from catboost) (3.2.2)\n",
            "Requirement already satisfied: retrying>=1.3.3 in /usr/local/lib/python3.6/dist-packages (from plotly->catboost) (1.3.3)\n",
            "Requirement already satisfied: python-dateutil>=2.7.3 in /usr/local/lib/python3.6/dist-packages (from pandas>=0.24.0->catboost) (2.8.1)\n",
            "Requirement already satisfied: pytz>=2017.2 in /usr/local/lib/python3.6/dist-packages (from pandas>=0.24.0->catboost) (2018.9)\n",
            "Requirement already satisfied: pyparsing!=2.0.4,!=2.1.2,!=2.1.6,>=2.0.1 in /usr/local/lib/python3.6/dist-packages (from matplotlib->catboost) (2.4.7)\n",
            "Requirement already satisfied: cycler>=0.10 in /usr/local/lib/python3.6/dist-packages (from matplotlib->catboost) (0.10.0)\n",
            "Requirement already satisfied: kiwisolver>=1.0.1 in /usr/local/lib/python3.6/dist-packages (from matplotlib->catboost) (1.3.1)\n",
            "Installing collected packages: catboost\n",
            "Successfully installed catboost-0.24.3\n"
          ],
          "name": "stdout"
        }
      ]
    },
    {
      "cell_type": "code",
      "metadata": {
        "id": "Ap5t0IR8983S"
      },
      "source": [
        "# loading our datasets\r\n",
        "train_df=pd.read_csv(\"Train.csv\")\r\n",
        "test_df=pd.read_csv(\"Test.csv\")\r\n",
        "sub_df=pd.read_csv(\"SampleSubmission.csv\")\r\n",
        "descp=pd.read_csv(\"VariableDefinitions.csv\")"
      ],
      "execution_count": null,
      "outputs": []
    },
    {
      "cell_type": "markdown",
      "metadata": {
        "id": "hOCGD2ltjVc1"
      },
      "source": [
        "# Exploratory Data Analysis(EDA)\r\n",
        "Here we try to understand our dataset in order to obtain insights from it so as to aid us while feature engineering our dataset"
      ]
    },
    {
      "cell_type": "code",
      "metadata": {
        "colab": {
          "base_uri": "https://localhost:8080/",
          "height": 428
        },
        "id": "uIuDN_dr-gUz",
        "outputId": "2683058a-6833-4142-ab86-43956c255dc2"
      },
      "source": [
        "# checking the first five rows of our train dataset\r\n",
        "train_df.head()"
      ],
      "execution_count": null,
      "outputs": [
        {
          "output_type": "execute_result",
          "data": {
            "text/html": [
              "<div>\n",
              "<style scoped>\n",
              "    .dataframe tbody tr th:only-of-type {\n",
              "        vertical-align: middle;\n",
              "    }\n",
              "\n",
              "    .dataframe tbody tr th {\n",
              "        vertical-align: top;\n",
              "    }\n",
              "\n",
              "    .dataframe thead th {\n",
              "        text-align: right;\n",
              "    }\n",
              "</style>\n",
              "<table border=\"1\" class=\"dataframe\">\n",
              "  <thead>\n",
              "    <tr style=\"text-align: right;\">\n",
              "      <th></th>\n",
              "      <th>ID</th>\n",
              "      <th>country</th>\n",
              "      <th>age_group</th>\n",
              "      <th>travel_with</th>\n",
              "      <th>total_female</th>\n",
              "      <th>total_male</th>\n",
              "      <th>purpose</th>\n",
              "      <th>main_activity</th>\n",
              "      <th>info_source</th>\n",
              "      <th>tour_arrangement</th>\n",
              "      <th>package_transport_int</th>\n",
              "      <th>package_accomodation</th>\n",
              "      <th>package_food</th>\n",
              "      <th>package_transport_tz</th>\n",
              "      <th>package_sightseeing</th>\n",
              "      <th>package_guided_tour</th>\n",
              "      <th>package_insurance</th>\n",
              "      <th>night_mainland</th>\n",
              "      <th>night_zanzibar</th>\n",
              "      <th>payment_mode</th>\n",
              "      <th>first_trip_tz</th>\n",
              "      <th>most_impressing</th>\n",
              "      <th>total_cost</th>\n",
              "    </tr>\n",
              "  </thead>\n",
              "  <tbody>\n",
              "    <tr>\n",
              "      <th>0</th>\n",
              "      <td>tour_0</td>\n",
              "      <td>SWIZERLAND</td>\n",
              "      <td>45-64</td>\n",
              "      <td>Friends/Relatives</td>\n",
              "      <td>1.0</td>\n",
              "      <td>1.0</td>\n",
              "      <td>Leisure and Holidays</td>\n",
              "      <td>Wildlife tourism</td>\n",
              "      <td>Friends, relatives</td>\n",
              "      <td>Independent</td>\n",
              "      <td>No</td>\n",
              "      <td>No</td>\n",
              "      <td>No</td>\n",
              "      <td>No</td>\n",
              "      <td>No</td>\n",
              "      <td>No</td>\n",
              "      <td>No</td>\n",
              "      <td>13.0</td>\n",
              "      <td>0.0</td>\n",
              "      <td>Cash</td>\n",
              "      <td>No</td>\n",
              "      <td>Friendly People</td>\n",
              "      <td>674602.5</td>\n",
              "    </tr>\n",
              "    <tr>\n",
              "      <th>1</th>\n",
              "      <td>tour_10</td>\n",
              "      <td>UNITED KINGDOM</td>\n",
              "      <td>25-44</td>\n",
              "      <td>NaN</td>\n",
              "      <td>1.0</td>\n",
              "      <td>0.0</td>\n",
              "      <td>Leisure and Holidays</td>\n",
              "      <td>Cultural tourism</td>\n",
              "      <td>others</td>\n",
              "      <td>Independent</td>\n",
              "      <td>No</td>\n",
              "      <td>No</td>\n",
              "      <td>No</td>\n",
              "      <td>No</td>\n",
              "      <td>No</td>\n",
              "      <td>No</td>\n",
              "      <td>No</td>\n",
              "      <td>14.0</td>\n",
              "      <td>7.0</td>\n",
              "      <td>Cash</td>\n",
              "      <td>Yes</td>\n",
              "      <td>Wonderful Country, Landscape, Nature</td>\n",
              "      <td>3214906.5</td>\n",
              "    </tr>\n",
              "    <tr>\n",
              "      <th>2</th>\n",
              "      <td>tour_1000</td>\n",
              "      <td>UNITED KINGDOM</td>\n",
              "      <td>25-44</td>\n",
              "      <td>Alone</td>\n",
              "      <td>0.0</td>\n",
              "      <td>1.0</td>\n",
              "      <td>Visiting Friends and Relatives</td>\n",
              "      <td>Cultural tourism</td>\n",
              "      <td>Friends, relatives</td>\n",
              "      <td>Independent</td>\n",
              "      <td>No</td>\n",
              "      <td>No</td>\n",
              "      <td>No</td>\n",
              "      <td>No</td>\n",
              "      <td>No</td>\n",
              "      <td>No</td>\n",
              "      <td>No</td>\n",
              "      <td>1.0</td>\n",
              "      <td>31.0</td>\n",
              "      <td>Cash</td>\n",
              "      <td>No</td>\n",
              "      <td>Excellent Experience</td>\n",
              "      <td>3315000.0</td>\n",
              "    </tr>\n",
              "    <tr>\n",
              "      <th>3</th>\n",
              "      <td>tour_1002</td>\n",
              "      <td>UNITED KINGDOM</td>\n",
              "      <td>25-44</td>\n",
              "      <td>Spouse</td>\n",
              "      <td>1.0</td>\n",
              "      <td>1.0</td>\n",
              "      <td>Leisure and Holidays</td>\n",
              "      <td>Wildlife tourism</td>\n",
              "      <td>Travel, agent, tour operator</td>\n",
              "      <td>Package Tour</td>\n",
              "      <td>No</td>\n",
              "      <td>Yes</td>\n",
              "      <td>Yes</td>\n",
              "      <td>Yes</td>\n",
              "      <td>Yes</td>\n",
              "      <td>Yes</td>\n",
              "      <td>No</td>\n",
              "      <td>11.0</td>\n",
              "      <td>0.0</td>\n",
              "      <td>Cash</td>\n",
              "      <td>Yes</td>\n",
              "      <td>Friendly People</td>\n",
              "      <td>7790250.0</td>\n",
              "    </tr>\n",
              "    <tr>\n",
              "      <th>4</th>\n",
              "      <td>tour_1004</td>\n",
              "      <td>CHINA</td>\n",
              "      <td>1-24</td>\n",
              "      <td>NaN</td>\n",
              "      <td>1.0</td>\n",
              "      <td>0.0</td>\n",
              "      <td>Leisure and Holidays</td>\n",
              "      <td>Wildlife tourism</td>\n",
              "      <td>Travel, agent, tour operator</td>\n",
              "      <td>Independent</td>\n",
              "      <td>No</td>\n",
              "      <td>No</td>\n",
              "      <td>No</td>\n",
              "      <td>No</td>\n",
              "      <td>No</td>\n",
              "      <td>No</td>\n",
              "      <td>No</td>\n",
              "      <td>7.0</td>\n",
              "      <td>4.0</td>\n",
              "      <td>Cash</td>\n",
              "      <td>Yes</td>\n",
              "      <td>No comments</td>\n",
              "      <td>1657500.0</td>\n",
              "    </tr>\n",
              "  </tbody>\n",
              "</table>\n",
              "</div>"
            ],
            "text/plain": [
              "          ID         country  ...                       most_impressing total_cost\n",
              "0     tour_0      SWIZERLAND  ...                       Friendly People   674602.5\n",
              "1    tour_10  UNITED KINGDOM  ...  Wonderful Country, Landscape, Nature  3214906.5\n",
              "2  tour_1000  UNITED KINGDOM  ...                  Excellent Experience  3315000.0\n",
              "3  tour_1002  UNITED KINGDOM  ...                       Friendly People  7790250.0\n",
              "4  tour_1004           CHINA  ...                           No comments  1657500.0\n",
              "\n",
              "[5 rows x 23 columns]"
            ]
          },
          "metadata": {
            "tags": []
          },
          "execution_count": 5
        }
      ]
    },
    {
      "cell_type": "code",
      "metadata": {
        "colab": {
          "base_uri": "https://localhost:8080/",
          "height": 411
        },
        "id": "R5_0GhCS-lrw",
        "outputId": "eb0b249e-4d4a-4eb5-fc14-835fd0be8f7c"
      },
      "source": [
        "# same case for our test dataset\r\n",
        "test_df.head()"
      ],
      "execution_count": null,
      "outputs": [
        {
          "output_type": "execute_result",
          "data": {
            "text/html": [
              "<div>\n",
              "<style scoped>\n",
              "    .dataframe tbody tr th:only-of-type {\n",
              "        vertical-align: middle;\n",
              "    }\n",
              "\n",
              "    .dataframe tbody tr th {\n",
              "        vertical-align: top;\n",
              "    }\n",
              "\n",
              "    .dataframe thead th {\n",
              "        text-align: right;\n",
              "    }\n",
              "</style>\n",
              "<table border=\"1\" class=\"dataframe\">\n",
              "  <thead>\n",
              "    <tr style=\"text-align: right;\">\n",
              "      <th></th>\n",
              "      <th>ID</th>\n",
              "      <th>country</th>\n",
              "      <th>age_group</th>\n",
              "      <th>travel_with</th>\n",
              "      <th>total_female</th>\n",
              "      <th>total_male</th>\n",
              "      <th>purpose</th>\n",
              "      <th>main_activity</th>\n",
              "      <th>info_source</th>\n",
              "      <th>tour_arrangement</th>\n",
              "      <th>package_transport_int</th>\n",
              "      <th>package_accomodation</th>\n",
              "      <th>package_food</th>\n",
              "      <th>package_transport_tz</th>\n",
              "      <th>package_sightseeing</th>\n",
              "      <th>package_guided_tour</th>\n",
              "      <th>package_insurance</th>\n",
              "      <th>night_mainland</th>\n",
              "      <th>night_zanzibar</th>\n",
              "      <th>payment_mode</th>\n",
              "      <th>first_trip_tz</th>\n",
              "      <th>most_impressing</th>\n",
              "    </tr>\n",
              "  </thead>\n",
              "  <tbody>\n",
              "    <tr>\n",
              "      <th>0</th>\n",
              "      <td>tour_1</td>\n",
              "      <td>AUSTRALIA</td>\n",
              "      <td>45-64</td>\n",
              "      <td>Spouse</td>\n",
              "      <td>1.0</td>\n",
              "      <td>1.0</td>\n",
              "      <td>Leisure and Holidays</td>\n",
              "      <td>Wildlife tourism</td>\n",
              "      <td>Travel, agent, tour operator</td>\n",
              "      <td>Package Tour</td>\n",
              "      <td>Yes</td>\n",
              "      <td>Yes</td>\n",
              "      <td>Yes</td>\n",
              "      <td>Yes</td>\n",
              "      <td>Yes</td>\n",
              "      <td>Yes</td>\n",
              "      <td>Yes</td>\n",
              "      <td>10</td>\n",
              "      <td>3</td>\n",
              "      <td>Cash</td>\n",
              "      <td>Yes</td>\n",
              "      <td>Wildlife</td>\n",
              "    </tr>\n",
              "    <tr>\n",
              "      <th>1</th>\n",
              "      <td>tour_100</td>\n",
              "      <td>SOUTH AFRICA</td>\n",
              "      <td>25-44</td>\n",
              "      <td>Friends/Relatives</td>\n",
              "      <td>0.0</td>\n",
              "      <td>4.0</td>\n",
              "      <td>Business</td>\n",
              "      <td>Wildlife tourism</td>\n",
              "      <td>Tanzania Mission Abroad</td>\n",
              "      <td>Package Tour</td>\n",
              "      <td>Yes</td>\n",
              "      <td>Yes</td>\n",
              "      <td>No</td>\n",
              "      <td>No</td>\n",
              "      <td>No</td>\n",
              "      <td>No</td>\n",
              "      <td>No</td>\n",
              "      <td>13</td>\n",
              "      <td>0</td>\n",
              "      <td>Cash</td>\n",
              "      <td>No</td>\n",
              "      <td>Wonderful Country, Landscape, Nature</td>\n",
              "    </tr>\n",
              "    <tr>\n",
              "      <th>2</th>\n",
              "      <td>tour_1001</td>\n",
              "      <td>GERMANY</td>\n",
              "      <td>25-44</td>\n",
              "      <td>Friends/Relatives</td>\n",
              "      <td>3.0</td>\n",
              "      <td>0.0</td>\n",
              "      <td>Leisure and Holidays</td>\n",
              "      <td>Beach tourism</td>\n",
              "      <td>Friends, relatives</td>\n",
              "      <td>Independent</td>\n",
              "      <td>No</td>\n",
              "      <td>No</td>\n",
              "      <td>No</td>\n",
              "      <td>No</td>\n",
              "      <td>No</td>\n",
              "      <td>No</td>\n",
              "      <td>No</td>\n",
              "      <td>7</td>\n",
              "      <td>14</td>\n",
              "      <td>Cash</td>\n",
              "      <td>No</td>\n",
              "      <td>No comments</td>\n",
              "    </tr>\n",
              "    <tr>\n",
              "      <th>3</th>\n",
              "      <td>tour_1006</td>\n",
              "      <td>CANADA</td>\n",
              "      <td>24-Jan</td>\n",
              "      <td>Friends/Relatives</td>\n",
              "      <td>2.0</td>\n",
              "      <td>0.0</td>\n",
              "      <td>Leisure and Holidays</td>\n",
              "      <td>Cultural tourism</td>\n",
              "      <td>others</td>\n",
              "      <td>Independent</td>\n",
              "      <td>No</td>\n",
              "      <td>No</td>\n",
              "      <td>No</td>\n",
              "      <td>No</td>\n",
              "      <td>No</td>\n",
              "      <td>No</td>\n",
              "      <td>No</td>\n",
              "      <td>0</td>\n",
              "      <td>4</td>\n",
              "      <td>Cash</td>\n",
              "      <td>Yes</td>\n",
              "      <td>Friendly People</td>\n",
              "    </tr>\n",
              "    <tr>\n",
              "      <th>4</th>\n",
              "      <td>tour_1009</td>\n",
              "      <td>UNITED KINGDOM</td>\n",
              "      <td>45-64</td>\n",
              "      <td>Friends/Relatives</td>\n",
              "      <td>2.0</td>\n",
              "      <td>2.0</td>\n",
              "      <td>Leisure and Holidays</td>\n",
              "      <td>Wildlife tourism</td>\n",
              "      <td>Friends, relatives</td>\n",
              "      <td>Package Tour</td>\n",
              "      <td>Yes</td>\n",
              "      <td>Yes</td>\n",
              "      <td>Yes</td>\n",
              "      <td>Yes</td>\n",
              "      <td>No</td>\n",
              "      <td>No</td>\n",
              "      <td>No</td>\n",
              "      <td>10</td>\n",
              "      <td>0</td>\n",
              "      <td>Cash</td>\n",
              "      <td>Yes</td>\n",
              "      <td>Friendly People</td>\n",
              "    </tr>\n",
              "  </tbody>\n",
              "</table>\n",
              "</div>"
            ],
            "text/plain": [
              "          ID  ...                       most_impressing\n",
              "0     tour_1  ...                              Wildlife\n",
              "1   tour_100  ...  Wonderful Country, Landscape, Nature\n",
              "2  tour_1001  ...                           No comments\n",
              "3  tour_1006  ...                       Friendly People\n",
              "4  tour_1009  ...                       Friendly People\n",
              "\n",
              "[5 rows x 22 columns]"
            ]
          },
          "metadata": {
            "tags": []
          },
          "execution_count": 6
        }
      ]
    },
    {
      "cell_type": "code",
      "metadata": {
        "colab": {
          "base_uri": "https://localhost:8080/"
        },
        "id": "-Cv1eP1t-xRv",
        "outputId": "907f66ed-76d8-45ae-fc97-16b6c48777e6"
      },
      "source": [
        "# viewing the size of both our dataset\r\n",
        "print(train_df.shape)\r\n",
        "print(test_df.shape)"
      ],
      "execution_count": null,
      "outputs": [
        {
          "output_type": "stream",
          "text": [
            "(4809, 23)\n",
            "(1601, 22)\n"
          ],
          "name": "stdout"
        }
      ]
    },
    {
      "cell_type": "code",
      "metadata": {
        "colab": {
          "base_uri": "https://localhost:8080/"
        },
        "id": "OiPnV1uw-71A",
        "outputId": "d70fca44-8e76-4fc4-eb7a-9f6e3ac90b92"
      },
      "source": [
        "# checking if there are any missing values in our dataset\r\n",
        "print(train_df.isnull().sum())"
      ],
      "execution_count": null,
      "outputs": [
        {
          "output_type": "stream",
          "text": [
            "ID                          0\n",
            "country                     0\n",
            "age_group                   0\n",
            "travel_with              1114\n",
            "total_female                3\n",
            "total_male                  5\n",
            "purpose                     0\n",
            "main_activity               0\n",
            "info_source                 0\n",
            "tour_arrangement            0\n",
            "package_transport_int       0\n",
            "package_accomodation        0\n",
            "package_food                0\n",
            "package_transport_tz        0\n",
            "package_sightseeing         0\n",
            "package_guided_tour         0\n",
            "package_insurance           0\n",
            "night_mainland              0\n",
            "night_zanzibar              0\n",
            "payment_mode                0\n",
            "first_trip_tz               0\n",
            "most_impressing           313\n",
            "total_cost                  0\n",
            "dtype: int64\n"
          ],
          "name": "stdout"
        }
      ]
    },
    {
      "cell_type": "code",
      "metadata": {
        "colab": {
          "base_uri": "https://localhost:8080/"
        },
        "id": "pz1E2fFR_Ehg",
        "outputId": "7d7a108a-f423-460f-8b12-9eb135b79d6f"
      },
      "source": [
        "# same case for our test dataset\r\n",
        "print(test_df.isnull().sum())"
      ],
      "execution_count": null,
      "outputs": [
        {
          "output_type": "stream",
          "text": [
            "ID                         0\n",
            "country                    0\n",
            "age_group                  0\n",
            "travel_with              327\n",
            "total_female               1\n",
            "total_male                 2\n",
            "purpose                    0\n",
            "main_activity              0\n",
            "info_source                0\n",
            "tour_arrangement           0\n",
            "package_transport_int      0\n",
            "package_accomodation       0\n",
            "package_food               0\n",
            "package_transport_tz       0\n",
            "package_sightseeing        0\n",
            "package_guided_tour        0\n",
            "package_insurance          0\n",
            "night_mainland             0\n",
            "night_zanzibar             0\n",
            "payment_mode               0\n",
            "first_trip_tz              0\n",
            "most_impressing          111\n",
            "dtype: int64\n"
          ],
          "name": "stdout"
        }
      ]
    },
    {
      "cell_type": "code",
      "metadata": {
        "colab": {
          "base_uri": "https://localhost:8080/"
        },
        "id": "E6zbzDge_PQY",
        "outputId": "57d085c7-2e90-4ef9-d81f-c969a0e97e74"
      },
      "source": [
        "train_df.info()"
      ],
      "execution_count": null,
      "outputs": [
        {
          "output_type": "stream",
          "text": [
            "<class 'pandas.core.frame.DataFrame'>\n",
            "RangeIndex: 4809 entries, 0 to 4808\n",
            "Data columns (total 23 columns):\n",
            " #   Column                 Non-Null Count  Dtype  \n",
            "---  ------                 --------------  -----  \n",
            " 0   ID                     4809 non-null   object \n",
            " 1   country                4809 non-null   object \n",
            " 2   age_group              4809 non-null   object \n",
            " 3   travel_with            3695 non-null   object \n",
            " 4   total_female           4806 non-null   float64\n",
            " 5   total_male             4804 non-null   float64\n",
            " 6   purpose                4809 non-null   object \n",
            " 7   main_activity          4809 non-null   object \n",
            " 8   info_source            4809 non-null   object \n",
            " 9   tour_arrangement       4809 non-null   object \n",
            " 10  package_transport_int  4809 non-null   object \n",
            " 11  package_accomodation   4809 non-null   object \n",
            " 12  package_food           4809 non-null   object \n",
            " 13  package_transport_tz   4809 non-null   object \n",
            " 14  package_sightseeing    4809 non-null   object \n",
            " 15  package_guided_tour    4809 non-null   object \n",
            " 16  package_insurance      4809 non-null   object \n",
            " 17  night_mainland         4809 non-null   float64\n",
            " 18  night_zanzibar         4809 non-null   float64\n",
            " 19  payment_mode           4809 non-null   object \n",
            " 20  first_trip_tz          4809 non-null   object \n",
            " 21  most_impressing        4496 non-null   object \n",
            " 22  total_cost             4809 non-null   float64\n",
            "dtypes: float64(5), object(18)\n",
            "memory usage: 864.2+ KB\n"
          ],
          "name": "stdout"
        }
      ]
    },
    {
      "cell_type": "code",
      "metadata": {
        "colab": {
          "base_uri": "https://localhost:8080/"
        },
        "id": "69gqgfCJAaFs",
        "outputId": "336f70f0-8484-451d-9113-ad2746e4af27"
      },
      "source": [
        "test_df.info()"
      ],
      "execution_count": null,
      "outputs": [
        {
          "output_type": "stream",
          "text": [
            "<class 'pandas.core.frame.DataFrame'>\n",
            "RangeIndex: 1601 entries, 0 to 1600\n",
            "Data columns (total 22 columns):\n",
            " #   Column                 Non-Null Count  Dtype  \n",
            "---  ------                 --------------  -----  \n",
            " 0   ID                     1601 non-null   object \n",
            " 1   country                1601 non-null   object \n",
            " 2   age_group              1601 non-null   object \n",
            " 3   travel_with            1274 non-null   object \n",
            " 4   total_female           1600 non-null   float64\n",
            " 5   total_male             1599 non-null   float64\n",
            " 6   purpose                1601 non-null   object \n",
            " 7   main_activity          1601 non-null   object \n",
            " 8   info_source            1601 non-null   object \n",
            " 9   tour_arrangement       1601 non-null   object \n",
            " 10  package_transport_int  1601 non-null   object \n",
            " 11  package_accomodation   1601 non-null   object \n",
            " 12  package_food           1601 non-null   object \n",
            " 13  package_transport_tz   1601 non-null   object \n",
            " 14  package_sightseeing    1601 non-null   object \n",
            " 15  package_guided_tour    1601 non-null   object \n",
            " 16  package_insurance      1601 non-null   object \n",
            " 17  night_mainland         1601 non-null   int64  \n",
            " 18  night_zanzibar         1601 non-null   int64  \n",
            " 19  payment_mode           1601 non-null   object \n",
            " 20  first_trip_tz          1601 non-null   object \n",
            " 21  most_impressing        1490 non-null   object \n",
            "dtypes: float64(2), int64(2), object(18)\n",
            "memory usage: 275.3+ KB\n"
          ],
          "name": "stdout"
        }
      ]
    },
    {
      "cell_type": "code",
      "metadata": {
        "colab": {
          "base_uri": "https://localhost:8080/"
        },
        "id": "VRli8WLVAjDA",
        "outputId": "981bd303-05e9-40f2-bf6e-fdaf45c56661"
      },
      "source": [
        "# combining both our train and test dataset to have one that we can clean both datasets\r\n",
        "data=pd.concat([train_df,test_df],sort=False).reset_index(drop=True)\r\n",
        "data.columns.tolist()"
      ],
      "execution_count": null,
      "outputs": [
        {
          "output_type": "execute_result",
          "data": {
            "text/plain": [
              "['ID',\n",
              " 'country',\n",
              " 'age_group',\n",
              " 'travel_with',\n",
              " 'total_female',\n",
              " 'total_male',\n",
              " 'purpose',\n",
              " 'main_activity',\n",
              " 'info_source',\n",
              " 'tour_arrangement',\n",
              " 'package_transport_int',\n",
              " 'package_accomodation',\n",
              " 'package_food',\n",
              " 'package_transport_tz',\n",
              " 'package_sightseeing',\n",
              " 'package_guided_tour',\n",
              " 'package_insurance',\n",
              " 'night_mainland',\n",
              " 'night_zanzibar',\n",
              " 'payment_mode',\n",
              " 'first_trip_tz',\n",
              " 'most_impressing',\n",
              " 'total_cost']"
            ]
          },
          "metadata": {
            "tags": []
          },
          "execution_count": 12
        }
      ]
    },
    {
      "cell_type": "code",
      "metadata": {
        "colab": {
          "base_uri": "https://localhost:8080/"
        },
        "id": "3-pbz4t7CjJA",
        "outputId": "a25332e5-793b-4a34-9c3a-1e9c49f060bd"
      },
      "source": [
        "# checking for missing values in our new dataset\r\n",
        "data.isnull().sum()"
      ],
      "execution_count": null,
      "outputs": [
        {
          "output_type": "execute_result",
          "data": {
            "text/plain": [
              "ID                          0\n",
              "country                     0\n",
              "age_group                   0\n",
              "travel_with              1441\n",
              "total_female                4\n",
              "total_male                  7\n",
              "purpose                     0\n",
              "main_activity               0\n",
              "info_source                 0\n",
              "tour_arrangement            0\n",
              "package_transport_int       0\n",
              "package_accomodation        0\n",
              "package_food                0\n",
              "package_transport_tz        0\n",
              "package_sightseeing         0\n",
              "package_guided_tour         0\n",
              "package_insurance           0\n",
              "night_mainland              0\n",
              "night_zanzibar              0\n",
              "payment_mode                0\n",
              "first_trip_tz               0\n",
              "most_impressing           424\n",
              "total_cost               1601\n",
              "dtype: int64"
            ]
          },
          "metadata": {
            "tags": []
          },
          "execution_count": 13
        }
      ]
    },
    {
      "cell_type": "code",
      "metadata": {
        "id": "cPY0omwzDe4A"
      },
      "source": [
        "# Handling the missing values by filling 'None' throughout all instances\r\n",
        "data.travel_with.fillna('None',inplace=True)\r\n",
        "data.most_impressing.fillna('None',inplace=True)\r\n",
        "# Handling the missing values by filling through the mean value of the entire column\r\n",
        "data.total_female.fillna(data.total_female.mean(),inplace = True)\r\n",
        "data.total_male.fillna(data.total_male.mean(),inplace = True)"
      ],
      "execution_count": null,
      "outputs": []
    },
    {
      "cell_type": "code",
      "metadata": {
        "colab": {
          "base_uri": "https://localhost:8080/"
        },
        "id": "Bj_Rl6xaDjLo",
        "outputId": "38cb6c78-a45e-4ea4-c612-b367e3f1bf14"
      },
      "source": [
        "data.isnull().sum()"
      ],
      "execution_count": null,
      "outputs": [
        {
          "output_type": "execute_result",
          "data": {
            "text/plain": [
              "ID                          0\n",
              "country                     0\n",
              "age_group                   0\n",
              "travel_with                 0\n",
              "total_female                0\n",
              "total_male                  0\n",
              "purpose                     0\n",
              "main_activity               0\n",
              "info_source                 0\n",
              "tour_arrangement            0\n",
              "package_transport_int       0\n",
              "package_accomodation        0\n",
              "package_food                0\n",
              "package_transport_tz        0\n",
              "package_sightseeing         0\n",
              "package_guided_tour         0\n",
              "package_insurance           0\n",
              "night_mainland              0\n",
              "night_zanzibar              0\n",
              "payment_mode                0\n",
              "first_trip_tz               0\n",
              "most_impressing             0\n",
              "total_cost               1601\n",
              "dtype: int64"
            ]
          },
          "metadata": {
            "tags": []
          },
          "execution_count": 15
        }
      ]
    },
    {
      "cell_type": "markdown",
      "metadata": {
        "id": "wFFHGXkki3QV"
      },
      "source": [
        "# Feature Engineering\r\n",
        "Here we try to come up with new features from existing ones in order to improve on the training process of our dataset\r\n"
      ]
    },
    {
      "cell_type": "markdown",
      "metadata": {
        "id": "wS_zZ3xZkjFd"
      },
      "source": [
        "in our first feature we try to point out wether the tourist travelled into Tanzania durring peak periods of the year such as holiday months. durring this times, tourism services are relatively expensive due to high demand.\r\n",
        "\r\n",
        "The column on purpose of visit aids us in doing so. "
      ]
    },
    {
      "cell_type": "code",
      "metadata": {
        "id": "yyjFrgd93CPw"
      },
      "source": [
        "peak_period = []\r\n",
        "\r\n",
        "for row in data.purpose:\r\n",
        "  if row == 'Leisure and Holidays':\r\n",
        "    peak_period.append(True)\r\n",
        "  else:\r\n",
        "    peak_period.append(False)\r\n",
        "\r\n",
        "data['peak_period'] = peak_period"
      ],
      "execution_count": null,
      "outputs": []
    },
    {
      "cell_type": "markdown",
      "metadata": {
        "id": "ezOXjy31l2O0"
      },
      "source": [
        "In our second feature, we try and isolate tourists from local African countries and those from other continents.\r\n",
        "In the tourism sector, Prices for local tourists and those for international differ with great margin"
      ]
    },
    {
      "cell_type": "code",
      "metadata": {
        "id": "NSLkxJuIlm8i"
      },
      "source": [
        "# we obtain a list on all countries to aid us in isolating african countries\r\n",
        "data['country'].unique()"
      ],
      "execution_count": null,
      "outputs": []
    },
    {
      "cell_type": "code",
      "metadata": {
        "id": "DK1HRV6m3jFh"
      },
      "source": [
        "is_African = []\r\n",
        "african = ['SOUTH AFRICA', 'NIGERIA', 'RWANDA', 'MOZAMBIQUE', 'KENYA', 'ALGERIA', 'EGYPT','MALAWI', \r\n",
        "           'UGANDA', 'ZIMBABWE', 'ZAMBIA', 'CONGO', 'MAURITIUS', 'DRC', 'TUNISIA', 'ETHIOPIA','BURUNDI',\r\n",
        "           'GHANA', 'NIGER', 'COMORO', 'ANGOLA', 'SUDAN', 'NAMIBIA', 'LESOTHO', 'IVORY COAST', 'MADAGASCAR',\r\n",
        "           'DJIBOUT', 'MORROCO', 'BOTSWANA', 'LIBERIA', 'GUINEA', 'SOMALI']\r\n",
        "\r\n",
        "for country in data['country']:\r\n",
        "  if country in african:\r\n",
        "    is_African.append(True)\r\n",
        "  else:\r\n",
        "    is_African.append(False)\r\n",
        "\r\n",
        "data['is_african'] = is_African"
      ],
      "execution_count": null,
      "outputs": []
    },
    {
      "cell_type": "code",
      "metadata": {
        "id": "jBMm7oCxEtoA"
      },
      "source": [
        "# Here we get two more features of the total number of people and the total number of nights spent\r\n",
        "data[\"total_persons\"] = data[\"total_female\"] + data[\"total_male\"]\r\n",
        "\r\n",
        "data[\"total_nights_spent\"] = data[\"night_mainland\"] + data[\"night_zanzibar\"]\r\n",
        "# data[\"cost_per_person\"] = data['total_cost']/data['total_persons']\r\n"
      ],
      "execution_count": null,
      "outputs": []
    },
    {
      "cell_type": "markdown",
      "metadata": {
        "id": "hZCP0CPsq5qD"
      },
      "source": [
        "**Label Encoding**\r\n",
        "\r\n",
        "We now do some encoding techniques where by we perform label encoding first.\r\n",
        "Label encoding involves converting labels into numeric form so as to have it into a machine-readable form."
      ]
    },
    {
      "cell_type": "code",
      "metadata": {
        "id": "BAZwQCmUDooA"
      },
      "source": [
        "from sklearn.preprocessing import LabelEncoder\r\n",
        "le = LabelEncoder()\r\n",
        "data['age_group'] = le.fit_transform(data['age_group'])\r\n",
        "data['package_transport_int'] = le.fit_transform(data['package_transport_int'])\r\n",
        "data['package_accomodation'] = le.fit_transform(data['package_accomodation'])\r\n",
        "data['package_food'] = le.fit_transform(data['package_food'])\r\n",
        "data['package_transport_tz'] = le.fit_transform(data['package_transport_tz'])\r\n",
        "data['package_sightseeing'] = le.fit_transform(data['package_sightseeing'])\r\n",
        "data['package_guided_tour'] = le.fit_transform(data['package_guided_tour'])\r\n",
        "data['package_insurance'] = le.fit_transform(data['package_insurance'])\r\n",
        "data['first_trip_tz'] = le.fit_transform(data['first_trip_tz'])\r\n",
        "data['country'] = le.fit_transform(data['country'])\r\n",
        "data['peak_period'] = le.fit_transform(data['peak_period'])\r\n",
        "data['is_african'] = le.fit_transform(data['is_african'])"
      ],
      "execution_count": null,
      "outputs": []
    },
    {
      "cell_type": "code",
      "metadata": {
        "id": "hIcKFoUDEWOQ"
      },
      "source": [
        "columns_to_transform = ['tour_arrangement','travel_with','purpose','main_activity','info_source','most_impressing','payment_mode']\r\n",
        "data = pd.get_dummies( data,columns = columns_to_transform,drop_first=True)"
      ],
      "execution_count": null,
      "outputs": []
    },
    {
      "cell_type": "code",
      "metadata": {
        "colab": {
          "base_uri": "https://localhost:8080/",
          "height": 165
        },
        "id": "8vOIlicBEY1A",
        "outputId": "8c87e90c-6bc0-469a-d0ab-d0668868f32b"
      },
      "source": [
        "data.head(2)"
      ],
      "execution_count": null,
      "outputs": [
        {
          "output_type": "execute_result",
          "data": {
            "text/html": [
              "<div>\n",
              "<style scoped>\n",
              "    .dataframe tbody tr th:only-of-type {\n",
              "        vertical-align: middle;\n",
              "    }\n",
              "\n",
              "    .dataframe tbody tr th {\n",
              "        vertical-align: top;\n",
              "    }\n",
              "\n",
              "    .dataframe thead th {\n",
              "        text-align: right;\n",
              "    }\n",
              "</style>\n",
              "<table border=\"1\" class=\"dataframe\">\n",
              "  <thead>\n",
              "    <tr style=\"text-align: right;\">\n",
              "      <th></th>\n",
              "      <th>ID</th>\n",
              "      <th>country</th>\n",
              "      <th>age_group</th>\n",
              "      <th>total_female</th>\n",
              "      <th>total_male</th>\n",
              "      <th>package_transport_int</th>\n",
              "      <th>package_accomodation</th>\n",
              "      <th>package_food</th>\n",
              "      <th>package_transport_tz</th>\n",
              "      <th>package_sightseeing</th>\n",
              "      <th>package_guided_tour</th>\n",
              "      <th>package_insurance</th>\n",
              "      <th>night_mainland</th>\n",
              "      <th>night_zanzibar</th>\n",
              "      <th>first_trip_tz</th>\n",
              "      <th>total_cost</th>\n",
              "      <th>peak_period</th>\n",
              "      <th>is_african</th>\n",
              "      <th>tour_arrangement_Package Tour</th>\n",
              "      <th>travel_with_Children</th>\n",
              "      <th>travel_with_Friends/Relatives</th>\n",
              "      <th>travel_with_None</th>\n",
              "      <th>travel_with_Spouse</th>\n",
              "      <th>travel_with_Spouse and Children</th>\n",
              "      <th>purpose_Leisure and Holidays</th>\n",
              "      <th>purpose_Meetings and Conference</th>\n",
              "      <th>purpose_Other</th>\n",
              "      <th>purpose_Scientific and Academic</th>\n",
              "      <th>purpose_Visiting Friends and Relatives</th>\n",
              "      <th>purpose_Volunteering</th>\n",
              "      <th>main_activity_Bird watching</th>\n",
              "      <th>main_activity_Conference tourism</th>\n",
              "      <th>main_activity_Cultural tourism</th>\n",
              "      <th>main_activity_Diving and Sport Fishing</th>\n",
              "      <th>main_activity_Hunting tourism</th>\n",
              "      <th>main_activity_Mountain climbing</th>\n",
              "      <th>main_activity_Wildlife tourism</th>\n",
              "      <th>main_activity_business</th>\n",
              "      <th>info_source_Newspaper, magazines,brochures</th>\n",
              "      <th>info_source_Radio, TV, Web</th>\n",
              "      <th>info_source_Tanzania Mission Abroad</th>\n",
              "      <th>info_source_Trade fair</th>\n",
              "      <th>info_source_Travel, agent, tour operator</th>\n",
              "      <th>info_source_inflight magazines</th>\n",
              "      <th>info_source_others</th>\n",
              "      <th>most_impressing_Excellent Experience</th>\n",
              "      <th>most_impressing_Friendly People</th>\n",
              "      <th>most_impressing_Good service</th>\n",
              "      <th>most_impressing_No comments</th>\n",
              "      <th>most_impressing_None</th>\n",
              "      <th>most_impressing_Satisfies and Hope Come Back</th>\n",
              "      <th>most_impressing_Wonderful Country, Landscape, Nature</th>\n",
              "      <th>payment_mode_Credit Card</th>\n",
              "      <th>payment_mode_Other</th>\n",
              "      <th>payment_mode_Travellers Cheque</th>\n",
              "    </tr>\n",
              "  </thead>\n",
              "  <tbody>\n",
              "    <tr>\n",
              "      <th>0</th>\n",
              "      <td>tour_0</td>\n",
              "      <td>101</td>\n",
              "      <td>3</td>\n",
              "      <td>1.0</td>\n",
              "      <td>1.0</td>\n",
              "      <td>0</td>\n",
              "      <td>0</td>\n",
              "      <td>0</td>\n",
              "      <td>0</td>\n",
              "      <td>0</td>\n",
              "      <td>0</td>\n",
              "      <td>0</td>\n",
              "      <td>13.0</td>\n",
              "      <td>0.0</td>\n",
              "      <td>0</td>\n",
              "      <td>674602.5</td>\n",
              "      <td>1</td>\n",
              "      <td>0</td>\n",
              "      <td>0</td>\n",
              "      <td>0</td>\n",
              "      <td>1</td>\n",
              "      <td>0</td>\n",
              "      <td>0</td>\n",
              "      <td>0</td>\n",
              "      <td>1</td>\n",
              "      <td>0</td>\n",
              "      <td>0</td>\n",
              "      <td>0</td>\n",
              "      <td>0</td>\n",
              "      <td>0</td>\n",
              "      <td>0</td>\n",
              "      <td>0</td>\n",
              "      <td>0</td>\n",
              "      <td>0</td>\n",
              "      <td>0</td>\n",
              "      <td>0</td>\n",
              "      <td>1</td>\n",
              "      <td>0</td>\n",
              "      <td>0</td>\n",
              "      <td>0</td>\n",
              "      <td>0</td>\n",
              "      <td>0</td>\n",
              "      <td>0</td>\n",
              "      <td>0</td>\n",
              "      <td>0</td>\n",
              "      <td>0</td>\n",
              "      <td>1</td>\n",
              "      <td>0</td>\n",
              "      <td>0</td>\n",
              "      <td>0</td>\n",
              "      <td>0</td>\n",
              "      <td>0</td>\n",
              "      <td>0</td>\n",
              "      <td>0</td>\n",
              "      <td>0</td>\n",
              "    </tr>\n",
              "    <tr>\n",
              "      <th>1</th>\n",
              "      <td>tour_10</td>\n",
              "      <td>111</td>\n",
              "      <td>2</td>\n",
              "      <td>1.0</td>\n",
              "      <td>0.0</td>\n",
              "      <td>0</td>\n",
              "      <td>0</td>\n",
              "      <td>0</td>\n",
              "      <td>0</td>\n",
              "      <td>0</td>\n",
              "      <td>0</td>\n",
              "      <td>0</td>\n",
              "      <td>14.0</td>\n",
              "      <td>7.0</td>\n",
              "      <td>1</td>\n",
              "      <td>3214906.5</td>\n",
              "      <td>1</td>\n",
              "      <td>0</td>\n",
              "      <td>0</td>\n",
              "      <td>0</td>\n",
              "      <td>0</td>\n",
              "      <td>1</td>\n",
              "      <td>0</td>\n",
              "      <td>0</td>\n",
              "      <td>1</td>\n",
              "      <td>0</td>\n",
              "      <td>0</td>\n",
              "      <td>0</td>\n",
              "      <td>0</td>\n",
              "      <td>0</td>\n",
              "      <td>0</td>\n",
              "      <td>0</td>\n",
              "      <td>1</td>\n",
              "      <td>0</td>\n",
              "      <td>0</td>\n",
              "      <td>0</td>\n",
              "      <td>0</td>\n",
              "      <td>0</td>\n",
              "      <td>0</td>\n",
              "      <td>0</td>\n",
              "      <td>0</td>\n",
              "      <td>0</td>\n",
              "      <td>0</td>\n",
              "      <td>0</td>\n",
              "      <td>1</td>\n",
              "      <td>0</td>\n",
              "      <td>0</td>\n",
              "      <td>0</td>\n",
              "      <td>0</td>\n",
              "      <td>0</td>\n",
              "      <td>0</td>\n",
              "      <td>1</td>\n",
              "      <td>0</td>\n",
              "      <td>0</td>\n",
              "      <td>0</td>\n",
              "    </tr>\n",
              "  </tbody>\n",
              "</table>\n",
              "</div>"
            ],
            "text/plain": [
              "        ID  country  ...  payment_mode_Other  payment_mode_Travellers Cheque\n",
              "0   tour_0      101  ...                   0                               0\n",
              "1  tour_10      111  ...                   0                               0\n",
              "\n",
              "[2 rows x 55 columns]"
            ]
          },
          "metadata": {
            "tags": []
          },
          "execution_count": 20
        }
      ]
    },
    {
      "cell_type": "code",
      "metadata": {
        "colab": {
          "base_uri": "https://localhost:8080/"
        },
        "id": "kEDOeLIgEb_4",
        "outputId": "0222f6d6-6a3a-4714-8728-26ae37a1281b"
      },
      "source": [
        "data.info()"
      ],
      "execution_count": null,
      "outputs": [
        {
          "output_type": "stream",
          "text": [
            "<class 'pandas.core.frame.DataFrame'>\n",
            "RangeIndex: 6410 entries, 0 to 6409\n",
            "Data columns (total 55 columns):\n",
            " #   Column                                                Non-Null Count  Dtype  \n",
            "---  ------                                                --------------  -----  \n",
            " 0   ID                                                    6410 non-null   object \n",
            " 1   country                                               6410 non-null   int64  \n",
            " 2   age_group                                             6410 non-null   int64  \n",
            " 3   total_female                                          6410 non-null   float64\n",
            " 4   total_male                                            6410 non-null   float64\n",
            " 5   package_transport_int                                 6410 non-null   int64  \n",
            " 6   package_accomodation                                  6410 non-null   int64  \n",
            " 7   package_food                                          6410 non-null   int64  \n",
            " 8   package_transport_tz                                  6410 non-null   int64  \n",
            " 9   package_sightseeing                                   6410 non-null   int64  \n",
            " 10  package_guided_tour                                   6410 non-null   int64  \n",
            " 11  package_insurance                                     6410 non-null   int64  \n",
            " 12  night_mainland                                        6410 non-null   float64\n",
            " 13  night_zanzibar                                        6410 non-null   float64\n",
            " 14  first_trip_tz                                         6410 non-null   int64  \n",
            " 15  total_cost                                            4809 non-null   float64\n",
            " 16  peak_period                                           6410 non-null   int64  \n",
            " 17  is_african                                            6410 non-null   int64  \n",
            " 18  tour_arrangement_Package Tour                         6410 non-null   uint8  \n",
            " 19  travel_with_Children                                  6410 non-null   uint8  \n",
            " 20  travel_with_Friends/Relatives                         6410 non-null   uint8  \n",
            " 21  travel_with_None                                      6410 non-null   uint8  \n",
            " 22  travel_with_Spouse                                    6410 non-null   uint8  \n",
            " 23  travel_with_Spouse and Children                       6410 non-null   uint8  \n",
            " 24  purpose_Leisure and Holidays                          6410 non-null   uint8  \n",
            " 25  purpose_Meetings and Conference                       6410 non-null   uint8  \n",
            " 26  purpose_Other                                         6410 non-null   uint8  \n",
            " 27  purpose_Scientific and Academic                       6410 non-null   uint8  \n",
            " 28  purpose_Visiting Friends and Relatives                6410 non-null   uint8  \n",
            " 29  purpose_Volunteering                                  6410 non-null   uint8  \n",
            " 30  main_activity_Bird watching                           6410 non-null   uint8  \n",
            " 31  main_activity_Conference tourism                      6410 non-null   uint8  \n",
            " 32  main_activity_Cultural tourism                        6410 non-null   uint8  \n",
            " 33  main_activity_Diving and Sport Fishing                6410 non-null   uint8  \n",
            " 34  main_activity_Hunting tourism                         6410 non-null   uint8  \n",
            " 35  main_activity_Mountain climbing                       6410 non-null   uint8  \n",
            " 36  main_activity_Wildlife tourism                        6410 non-null   uint8  \n",
            " 37  main_activity_business                                6410 non-null   uint8  \n",
            " 38  info_source_Newspaper, magazines,brochures            6410 non-null   uint8  \n",
            " 39  info_source_Radio, TV, Web                            6410 non-null   uint8  \n",
            " 40  info_source_Tanzania Mission Abroad                   6410 non-null   uint8  \n",
            " 41  info_source_Trade fair                                6410 non-null   uint8  \n",
            " 42  info_source_Travel, agent, tour operator              6410 non-null   uint8  \n",
            " 43  info_source_inflight magazines                        6410 non-null   uint8  \n",
            " 44  info_source_others                                    6410 non-null   uint8  \n",
            " 45  most_impressing_Excellent Experience                  6410 non-null   uint8  \n",
            " 46  most_impressing_Friendly People                       6410 non-null   uint8  \n",
            " 47  most_impressing_Good service                          6410 non-null   uint8  \n",
            " 48  most_impressing_No comments                           6410 non-null   uint8  \n",
            " 49  most_impressing_None                                  6410 non-null   uint8  \n",
            " 50  most_impressing_Satisfies and Hope Come Back          6410 non-null   uint8  \n",
            " 51  most_impressing_Wonderful Country, Landscape, Nature  6410 non-null   uint8  \n",
            " 52  payment_mode_Credit Card                              6410 non-null   uint8  \n",
            " 53  payment_mode_Other                                    6410 non-null   uint8  \n",
            " 54  payment_mode_Travellers Cheque                        6410 non-null   uint8  \n",
            "dtypes: float64(5), int64(12), object(1), uint8(37)\n",
            "memory usage: 1.1+ MB\n"
          ],
          "name": "stdout"
        }
      ]
    },
    {
      "cell_type": "code",
      "metadata": {
        "id": "4YmV-4PnEiGg"
      },
      "source": [
        "## convert float dtypes to int\r\n",
        "data[\"total_female\"] = data['total_female'].astype('int')\r\n",
        "data[\"total_male\"] = data['total_male'].astype('int')\r\n",
        "data[\"night_mainland\"] = data['night_mainland'].astype('int')\r\n",
        "data[\"night_zanzibar\"] = data['night_zanzibar'].astype('int')"
      ],
      "execution_count": null,
      "outputs": []
    },
    {
      "cell_type": "code",
      "metadata": {
        "id": "529qFjd7Eym4"
      },
      "source": [
        "## separate data into train and test\r\n",
        "train_df=data[data.total_cost.notnull()].reset_index(drop=True)\r\n",
        "test_df=data[data.total_cost.isna()].reset_index(drop=True)"
      ],
      "execution_count": null,
      "outputs": []
    },
    {
      "cell_type": "code",
      "metadata": {
        "colab": {
          "base_uri": "https://localhost:8080/"
        },
        "id": "ndFOcwF6E8eY",
        "outputId": "018ced00-521c-4439-a33d-6f93f3a96fa4"
      },
      "source": [
        "print(train_df.shape)\r\n",
        "print(test_df.shape)"
      ],
      "execution_count": null,
      "outputs": [
        {
          "output_type": "stream",
          "text": [
            "(4809, 57)\n",
            "(1601, 57)\n"
          ],
          "name": "stdout"
        }
      ]
    },
    {
      "cell_type": "markdown",
      "metadata": {
        "id": "S9ok7As-sLZc"
      },
      "source": [
        "# Modelling\r\n",
        "Here is where we create a model that we'll train on with our training set so as to aid us in making our desired predictions.\r\n",
        "we notice that we our hackathon is a linear regression problem hence we'll need to use a regression algorithm to solve it.\r\n",
        "we used a catboost Regressor model to train and give our prediction.\r\n"
      ]
    },
    {
      "cell_type": "code",
      "metadata": {
        "id": "Qe53ElUZE-wI"
      },
      "source": [
        "\r\n",
        "feat_cols = train_df.drop([\"ID\",\"total_cost\"],1)\r\n",
        "cols = feat_cols.columns\r\n",
        "target=train_df[\"total_cost\"]"
      ],
      "execution_count": null,
      "outputs": []
    },
    {
      "cell_type": "code",
      "metadata": {
        "id": "f2OcCDk_GIKQ"
      },
      "source": [
        "from sklearn.model_selection import train_test_split\r\n",
        "from sklearn.model_selection import KFold, cross_val_score"
      ],
      "execution_count": null,
      "outputs": []
    },
    {
      "cell_type": "code",
      "metadata": {
        "colab": {
          "base_uri": "https://localhost:8080/"
        },
        "id": "ktXgjCciGRLY",
        "outputId": "a7fc9fbb-f5df-4604-edf9-063d96a642e9"
      },
      "source": [
        "# create training and testing vars\r\n",
        "X_train, X_test, y_train, y_test = train_test_split(train_df[cols],target, test_size=0.25, random_state = 42)\r\n",
        "print (X_train.shape, y_train.shape)\r\n",
        "print (X_test.shape, y_test.shape)"
      ],
      "execution_count": null,
      "outputs": [
        {
          "output_type": "stream",
          "text": [
            "(3606, 55) (3606,)\n",
            "(1203, 55) (1203,)\n"
          ],
          "name": "stdout"
        }
      ]
    },
    {
      "cell_type": "code",
      "metadata": {
        "id": "nEBlfnotGT8o"
      },
      "source": [
        "from catboost import CatBoostRegressor\r\n",
        "predictions = []\r\n",
        "for i in range(10):\r\n",
        "  # Training the model\r\n",
        "  ct=CatBoostRegressor(iterations=1000, \r\n",
        "                    loss_function='MAE',\r\n",
        "                    logging_level='Silent',\r\n",
        "                    depth = i\r\n",
        "                    )\r\n",
        "  ct.fit(X_train, y_train)\r\n",
        "\r\n",
        "  # Making predictions\r\n",
        "  preds = ct.predict(X_test)\r\n",
        "  predictions.append(preds)\r\n",
        "\r\n",
        "# Averaging the preictions\r\n",
        "preds = np.mean(predictions, axis = 0)"
      ],
      "execution_count": null,
      "outputs": []
    },
    {
      "cell_type": "code",
      "metadata": {
        "colab": {
          "base_uri": "https://localhost:8080/"
        },
        "id": "XAlV2sJNGjLz",
        "outputId": "5d4a07d0-c625-443c-f867-c1c5999d478b"
      },
      "source": [
        "# Model evaluation\r\n",
        "from sklearn.metrics import mean_absolute_error \r\n",
        "mae = mean_absolute_error(y_test, preds)\r\n",
        "print('Error {}'.format(mae))"
      ],
      "execution_count": null,
      "outputs": [
        {
          "output_type": "stream",
          "text": [
            "Error 4654344.295227008\n"
          ],
          "name": "stdout"
        }
      ]
    },
    {
      "cell_type": "code",
      "metadata": {
        "id": "e2hOvZy9Goyh"
      },
      "source": [
        "# Doing our prediction.\r\n",
        "sub = test_df[cols]\r\n",
        "predictions_ct = ct.predict(sub)\r\n",
        "submission_df = pd.DataFrame({'ID': test_df.ID, 'total_cost': predictions_ct})\r\n",
        "submission_df.to_csv('ceY20.csv',index=False)"
      ],
      "execution_count": null,
      "outputs": []
    }
  ]
}